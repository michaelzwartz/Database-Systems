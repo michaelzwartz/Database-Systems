{
 "cells": [
  {
   "cell_type": "code",
   "execution_count": 18,
   "metadata": {},
   "outputs": [
    {
     "name": "stdout",
     "output_type": "stream",
     "text": [
      "Tony is located in Chicago\n",
      "Adam is located in Chicago\n",
      "Kelsey is located in Remote\n",
      "Jeremiah is located in Chicago\n",
      "Rebecca is located in Remote\n"
     ]
    },
    {
     "data": {
      "text/plain": [
       "True"
      ]
     },
     "execution_count": 18,
     "metadata": {},
     "output_type": "execute_result"
    }
   ],
   "source": [
    "import mysql.connector\n",
    "from mysql.connector import errorcode\n",
    "\n",
    "try: \n",
    "    cm_connection = mysql.connector.connect(\n",
    "        user='localhost',\n",
    "        password = 'password',\n",
    "        host = '127.0.0.1',\n",
    "        database=\"timmzatlantic\"\n",
    "        )\n",
    "    \n",
    "except mysql.connector.Error as err:\n",
    "    if err.errno == errorcode.ER_ACCESS_DENIED_ERROR: \n",
    "        print(\"Invalid credentials\")\n",
    "    elif err.erno == errorcode.ER_BAD_DB_ERROR:\n",
    "        print(\"Database not found\")\n",
    "    else:\n",
    "        print(\"Cannot connect to database: \", err)\n",
    "    exit()\n",
    "        \n",
    "\n",
    "#Execute database operations... your queries will go here\n",
    "employee_data_cursor = cm_connection.cursor()\n",
    "employee_data_query = (\"SELECT first_name, location FROM employee_data\")\n",
    "employee_data_cursor.execute(employee_data_query)\n",
    "\n",
    "for row in employee_data_cursor.fetchall():\n",
    "    print(\"{} is located in {}\".format(row[0], row[1]))\n",
    "\n",
    "employee_data_cursor.close()\n",
    "\n"
   ]
  },
  {
   "cell_type": "code",
   "execution_count": 24,
   "metadata": {},
   "outputs": [
    {
     "name": "stdout",
     "output_type": "stream",
     "text": [
      "walmart recieved a shipment 1105\n",
      "walmart recieved a shipment 2210\n",
      "target recieved a shipment 2210\n",
      "costco recieved a shipment 2210\n",
      "costco recieved a shipment 3315\n",
      "Amazon recieved a shipment 1105\n",
      "Amazon recieved a shipment 2210\n"
     ]
    },
    {
     "data": {
      "text/plain": [
       "True"
      ]
     },
     "execution_count": 24,
     "metadata": {},
     "output_type": "execute_result"
    }
   ],
   "source": [
    "#write my own query \n",
    "sales_data_cursor = cm_connection.cursor()\n",
    "sales_data_query = (\"SELECT store_id, product FROM sales_data\")\n",
    "sales_data_cursor.execute(sales_data_query)\n",
    "\n",
    "for row in sales_data_cursor.fetchall():\n",
    "    print(\"{} recieved a shipment of product {}\".format(row[0], row[1]))\n",
    "\n",
    "sales_data_cursor.close()"
   ]
  },
  {
   "cell_type": "code",
   "execution_count": null,
   "metadata": {},
   "outputs": [],
   "source": []
  },
  {
   "cell_type": "code",
   "execution_count": 14,
   "metadata": {},
   "outputs": [],
   "source": [
    "cm_connection.close()"
   ]
  }
 ],
 "metadata": {
  "kernelspec": {
   "display_name": "base",
   "language": "python",
   "name": "python3"
  },
  "language_info": {
   "codemirror_mode": {
    "name": "ipython",
    "version": 3
   },
   "file_extension": ".py",
   "mimetype": "text/x-python",
   "name": "python",
   "nbconvert_exporter": "python",
   "pygments_lexer": "ipython3",
   "version": "3.9.12"
  },
  "orig_nbformat": 4,
  "vscode": {
   "interpreter": {
    "hash": "dbdcb66d1c96693250f301222deb253addb7cffe129c2f4d0a4da6ea226330dd"
   }
  }
 },
 "nbformat": 4,
 "nbformat_minor": 2
}
